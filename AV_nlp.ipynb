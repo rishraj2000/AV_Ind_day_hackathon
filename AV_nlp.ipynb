{
  "nbformat": 4,
  "nbformat_minor": 0,
  "metadata": {
    "colab": {
      "name": "AV_nlp.ipynb",
      "provenance": [],
      "collapsed_sections": []
    },
    "kernelspec": {
      "name": "python3",
      "display_name": "Python 3"
    }
  },
  "cells": [
    {
      "cell_type": "code",
      "metadata": {
        "id": "xeec211RmBqa",
        "colab_type": "code",
        "colab": {
          "base_uri": "https://localhost:8080/",
          "height": 109
        },
        "outputId": "c9f4a74c-33e3-4254-d522-25cf3e2852ff"
      },
      "source": [
        "import numpy as np\n",
        "import pandas as pd\n",
        "import matplotlib.pyplot as plt\n",
        "import seaborn as sns\n",
        "import tensorflow as tf\n",
        "import csv\n",
        "from tensorflow.keras.preprocessing.text import Tokenizer\n",
        "from tensorflow.keras.preprocessing.sequence import pad_sequences\n",
        "import nltk\n",
        "from nltk.stem.porter import PorterStemmer\n",
        "import re\n",
        "nltk.download('stopwords')\n",
        "from nltk.corpus import stopwords"
      ],
      "execution_count": null,
      "outputs": [
        {
          "output_type": "stream",
          "text": [
            "/usr/local/lib/python3.6/dist-packages/statsmodels/tools/_testing.py:19: FutureWarning: pandas.util.testing is deprecated. Use the functions in the public API at pandas.testing instead.\n",
            "  import pandas.util.testing as tm\n"
          ],
          "name": "stderr"
        },
        {
          "output_type": "stream",
          "text": [
            "[nltk_data] Downloading package stopwords to /root/nltk_data...\n",
            "[nltk_data]   Package stopwords is already up-to-date!\n"
          ],
          "name": "stdout"
        }
      ]
    },
    {
      "cell_type": "code",
      "metadata": {
        "id": "rzjeDvzmmhn3",
        "colab_type": "code",
        "colab": {
          "base_uri": "https://localhost:8080/",
          "height": 53
        },
        "outputId": "1f7f20c4-bece-46b3-e346-0145152fb86e"
      },
      "source": [
        "!unzip train.zip"
      ],
      "execution_count": null,
      "outputs": [
        {
          "output_type": "stream",
          "text": [
            "Archive:  train.zip\n",
            "  inflating: train.csv               \n"
          ],
          "name": "stdout"
        }
      ]
    },
    {
      "cell_type": "code",
      "metadata": {
        "id": "fQ34wBPw6T5N",
        "colab_type": "code",
        "colab": {
          "base_uri": "https://localhost:8080/",
          "height": 53
        },
        "outputId": "1a6d52c1-7c34-4f67-da99-2566a0edb5a3"
      },
      "source": [
        "!unzip test.zip"
      ],
      "execution_count": null,
      "outputs": [
        {
          "output_type": "stream",
          "text": [
            "Archive:  test.zip\n",
            "  inflating: test.csv                \n"
          ],
          "name": "stdout"
        }
      ]
    },
    {
      "cell_type": "code",
      "metadata": {
        "id": "6auypr1vm97D",
        "colab_type": "code",
        "colab": {}
      },
      "source": [
        "df = pd.read_csv('train.csv')"
      ],
      "execution_count": null,
      "outputs": []
    },
    {
      "cell_type": "code",
      "metadata": {
        "id": "Slz2Us736jxm",
        "colab_type": "code",
        "colab": {}
      },
      "source": [
        "dft = pd.read_csv('test.csv')"
      ],
      "execution_count": null,
      "outputs": []
    },
    {
      "cell_type": "code",
      "metadata": {
        "id": "Wqshx588nFl7",
        "colab_type": "code",
        "colab": {
          "base_uri": "https://localhost:8080/",
          "height": 162
        },
        "outputId": "93941752-2a72-4234-cbeb-9bf9111c2bea"
      },
      "source": [
        "df.tail(2)"
      ],
      "execution_count": null,
      "outputs": [
        {
          "output_type": "execute_result",
          "data": {
            "text/html": [
              "<div>\n",
              "<style scoped>\n",
              "    .dataframe tbody tr th:only-of-type {\n",
              "        vertical-align: middle;\n",
              "    }\n",
              "\n",
              "    .dataframe tbody tr th {\n",
              "        vertical-align: top;\n",
              "    }\n",
              "\n",
              "    .dataframe thead th {\n",
              "        text-align: right;\n",
              "    }\n",
              "</style>\n",
              "<table border=\"1\" class=\"dataframe\">\n",
              "  <thead>\n",
              "    <tr style=\"text-align: right;\">\n",
              "      <th></th>\n",
              "      <th>ID</th>\n",
              "      <th>TITLE</th>\n",
              "      <th>ABSTRACT</th>\n",
              "      <th>Computer Science</th>\n",
              "      <th>Physics</th>\n",
              "      <th>Mathematics</th>\n",
              "      <th>Statistics</th>\n",
              "      <th>Quantitative Biology</th>\n",
              "      <th>Quantitative Finance</th>\n",
              "    </tr>\n",
              "  </thead>\n",
              "  <tbody>\n",
              "    <tr>\n",
              "      <th>20970</th>\n",
              "      <td>20971</td>\n",
              "      <td>On the Efficient Simulation of the Left-Tail o...</td>\n",
              "      <td>The sum of Log-normal variates is encountere...</td>\n",
              "      <td>0</td>\n",
              "      <td>0</td>\n",
              "      <td>1</td>\n",
              "      <td>1</td>\n",
              "      <td>0</td>\n",
              "      <td>0</td>\n",
              "    </tr>\n",
              "    <tr>\n",
              "      <th>20971</th>\n",
              "      <td>20972</td>\n",
              "      <td>Why optional stopping is a problem for Bayesians</td>\n",
              "      <td>Recently, optional stopping has been a subje...</td>\n",
              "      <td>0</td>\n",
              "      <td>0</td>\n",
              "      <td>1</td>\n",
              "      <td>1</td>\n",
              "      <td>0</td>\n",
              "      <td>0</td>\n",
              "    </tr>\n",
              "  </tbody>\n",
              "</table>\n",
              "</div>"
            ],
            "text/plain": [
              "          ID  ... Quantitative Finance\n",
              "20970  20971  ...                    0\n",
              "20971  20972  ...                    0\n",
              "\n",
              "[2 rows x 9 columns]"
            ]
          },
          "metadata": {
            "tags": []
          },
          "execution_count": 4
        }
      ]
    },
    {
      "cell_type": "code",
      "metadata": {
        "id": "KVGuIeGEGtY6",
        "colab_type": "code",
        "colab": {
          "base_uri": "https://localhost:8080/",
          "height": 143
        },
        "outputId": "90f66bf8-1bf5-4500-ced2-07bdbe1541c3"
      },
      "source": [
        "df.ABSTRACT.iloc[5]"
      ],
      "execution_count": null,
      "outputs": [
        {
          "output_type": "execute_result",
          "data": {
            "application/vnd.google.colaboratory.intrinsic+json": {
              "type": "string"
            },
            "text/plain": [
              "'  Let $\\\\Omega \\\\subset \\\\mathbb{R}^n$ be a bounded domain satisfying a\\nHayman-type asymmetry condition, and let $ D $ be an arbitrary bounded domain\\nreferred to as \"obstacle\". We are interested in the behaviour of the first\\nDirichlet eigenvalue $ \\\\lambda_1(\\\\Omega \\\\setminus (x+D)) $. First, we prove an\\nupper bound on $ \\\\lambda_1(\\\\Omega \\\\setminus (x+D)) $ in terms of the distance\\nof the set $ x+D $ to the set of maximum points $ x_0 $ of the first Dirichlet\\nground state $ \\\\phi_{\\\\lambda_1} > 0 $ of $ \\\\Omega $. In short, a direct\\ncorollary is that if \\\\begin{equation} \\\\mu_\\\\Omega := \\\\max_{x}\\\\lambda_1(\\\\Omega\\n\\\\setminus (x+D)) \\\\end{equation} is large enough in terms of $ \\\\lambda_1(\\\\Omega)\\n$, then all maximizer sets $ x+D $ of $ \\\\mu_\\\\Omega $ are close to each maximum\\npoint $ x_0 $ of $ \\\\phi_{\\\\lambda_1} $.\\nSecond, we discuss the distribution of $ \\\\phi_{\\\\lambda_1(\\\\Omega)} $ and the\\npossibility to inscribe wavelength balls at a given point in $ \\\\Omega $.\\nFinally, we specify our observations to convex obstacles $ D $ and show that\\nif $ \\\\mu_\\\\Omega $ is sufficiently large with respect to $ \\\\lambda_1(\\\\Omega) $,\\nthen all maximizers $ x+D $ of $ \\\\mu_\\\\Omega $ contain all maximum points $ x_0\\n$ of $ \\\\phi_{\\\\lambda_1(\\\\Omega)} $.\\n'"
            ]
          },
          "metadata": {
            "tags": []
          },
          "execution_count": 5
        }
      ]
    },
    {
      "cell_type": "code",
      "metadata": {
        "id": "eM2Ypz-rJJ5g",
        "colab_type": "code",
        "colab": {
          "base_uri": "https://localhost:8080/",
          "height": 143
        },
        "outputId": "274f77da-e49c-4784-b6f4-472bcc6e0857"
      },
      "source": [
        "def remove_pattern(input_txt, pattern):\n",
        "    r = re.findall(pattern, input_txt)\n",
        "    for i in r:\n",
        "        input_txt = re.sub(i, '', input_txt)\n",
        "     \n",
        "    return input_txt \n",
        "\n",
        "df['ABSTRACT'] = np.vectorize(remove_pattern)(df['ABSTRACT'], \"@[\\w]*\")\n",
        "\n",
        "df.ABSTRACT.iloc[5]"
      ],
      "execution_count": null,
      "outputs": [
        {
          "output_type": "execute_result",
          "data": {
            "application/vnd.google.colaboratory.intrinsic+json": {
              "type": "string"
            },
            "text/plain": [
              "'  Let $\\\\Omega \\\\subset \\\\mathbb{R}^n$ be a bounded domain satisfying a\\nHayman-type asymmetry condition, and let $ D $ be an arbitrary bounded domain\\nreferred to as \"obstacle\". We are interested in the behaviour of the first\\nDirichlet eigenvalue $ \\\\lambda_1(\\\\Omega \\\\setminus (x+D)) $. First, we prove an\\nupper bound on $ \\\\lambda_1(\\\\Omega \\\\setminus (x+D)) $ in terms of the distance\\nof the set $ x+D $ to the set of maximum points $ x_0 $ of the first Dirichlet\\nground state $ \\\\phi_{\\\\lambda_1} > 0 $ of $ \\\\Omega $. In short, a direct\\ncorollary is that if \\\\begin{equation} \\\\mu_\\\\Omega := \\\\max_{x}\\\\lambda_1(\\\\Omega\\n\\\\setminus (x+D)) \\\\end{equation} is large enough in terms of $ \\\\lambda_1(\\\\Omega)\\n$, then all maximizer sets $ x+D $ of $ \\\\mu_\\\\Omega $ are close to each maximum\\npoint $ x_0 $ of $ \\\\phi_{\\\\lambda_1} $.\\nSecond, we discuss the distribution of $ \\\\phi_{\\\\lambda_1(\\\\Omega)} $ and the\\npossibility to inscribe wavelength balls at a given point in $ \\\\Omega $.\\nFinally, we specify our observations to convex obstacles $ D $ and show that\\nif $ \\\\mu_\\\\Omega $ is sufficiently large with respect to $ \\\\lambda_1(\\\\Omega) $,\\nthen all maximizers $ x+D $ of $ \\\\mu_\\\\Omega $ contain all maximum points $ x_0\\n$ of $ \\\\phi_{\\\\lambda_1(\\\\Omega)} $.\\n'"
            ]
          },
          "metadata": {
            "tags": []
          },
          "execution_count": 6
        }
      ]
    },
    {
      "cell_type": "code",
      "metadata": {
        "id": "QkJGOmqs6pZE",
        "colab_type": "code",
        "colab": {
          "base_uri": "https://localhost:8080/",
          "height": 111
        },
        "outputId": "cf410216-76ce-42ff-e490-e5b5c8ebcded"
      },
      "source": [
        "dft.head(2)"
      ],
      "execution_count": null,
      "outputs": [
        {
          "output_type": "execute_result",
          "data": {
            "text/html": [
              "<div>\n",
              "<style scoped>\n",
              "    .dataframe tbody tr th:only-of-type {\n",
              "        vertical-align: middle;\n",
              "    }\n",
              "\n",
              "    .dataframe tbody tr th {\n",
              "        vertical-align: top;\n",
              "    }\n",
              "\n",
              "    .dataframe thead th {\n",
              "        text-align: right;\n",
              "    }\n",
              "</style>\n",
              "<table border=\"1\" class=\"dataframe\">\n",
              "  <thead>\n",
              "    <tr style=\"text-align: right;\">\n",
              "      <th></th>\n",
              "      <th>ID</th>\n",
              "      <th>TITLE</th>\n",
              "      <th>ABSTRACT</th>\n",
              "    </tr>\n",
              "  </thead>\n",
              "  <tbody>\n",
              "    <tr>\n",
              "      <th>0</th>\n",
              "      <td>20973</td>\n",
              "      <td>Closed-form Marginal Likelihood in Gamma-Poiss...</td>\n",
              "      <td>We present novel understandings of the Gamma...</td>\n",
              "    </tr>\n",
              "    <tr>\n",
              "      <th>1</th>\n",
              "      <td>20974</td>\n",
              "      <td>Laboratory mid-IR spectra of equilibrated and ...</td>\n",
              "      <td>Meteorites contain minerals from Solar Syste...</td>\n",
              "    </tr>\n",
              "  </tbody>\n",
              "</table>\n",
              "</div>"
            ],
            "text/plain": [
              "      ID  ...                                           ABSTRACT\n",
              "0  20973  ...    We present novel understandings of the Gamma...\n",
              "1  20974  ...    Meteorites contain minerals from Solar Syste...\n",
              "\n",
              "[2 rows x 3 columns]"
            ]
          },
          "metadata": {
            "tags": []
          },
          "execution_count": 7
        }
      ]
    },
    {
      "cell_type": "code",
      "metadata": {
        "id": "8Hza8ypb7dPg",
        "colab_type": "code",
        "colab": {
          "base_uri": "https://localhost:8080/",
          "height": 197
        },
        "outputId": "11c4c953-c5a3-4409-b8c2-0cd6121830e9"
      },
      "source": [
        "dft.info()"
      ],
      "execution_count": null,
      "outputs": [
        {
          "output_type": "stream",
          "text": [
            "<class 'pandas.core.frame.DataFrame'>\n",
            "RangeIndex: 8989 entries, 0 to 8988\n",
            "Data columns (total 3 columns):\n",
            " #   Column    Non-Null Count  Dtype \n",
            "---  ------    --------------  ----- \n",
            " 0   ID        8989 non-null   int64 \n",
            " 1   TITLE     8989 non-null   object\n",
            " 2   ABSTRACT  8989 non-null   object\n",
            "dtypes: int64(1), object(2)\n",
            "memory usage: 210.8+ KB\n"
          ],
          "name": "stdout"
        }
      ]
    },
    {
      "cell_type": "code",
      "metadata": {
        "id": "CxwoIdacwpgQ",
        "colab_type": "code",
        "colab": {
          "base_uri": "https://localhost:8080/",
          "height": 35
        },
        "outputId": "7f3a842d-f7ef-4b14-eac9-689b16d6426f"
      },
      "source": [
        "train_sentences=[]\n",
        "stopwords_ = [ \"a\", \"about\", \"above\", \"after\", \"again\", \"against\", \"all\", \"am\", \"an\", \"and\", \"any\", \"are\", \"as\", \"at\", \"be\", \"because\", \"been\", \"before\", \"being\", \"below\", \"between\", \"both\", \"but\", \"by\", \"could\", \"did\", \"do\", \"does\", \"doing\", \"down\", \"during\", \"each\", \"few\", \"for\", \"from\", \"further\", \"had\", \"has\", \"have\", \"having\", \"he\", \"he'd\", \"he'll\", \"he's\", \"her\", \"here\", \"here's\", \"hers\", \"herself\", \"him\", \"himself\", \"his\", \"how\", \"how's\", \"i\", \"i'd\", \"i'll\", \"i'm\", \"i've\", \"if\", \"in\", \"into\", \"is\", \"it\", \"it's\", \"its\", \"itself\", \"let's\", \"me\", \"more\", \"most\", \"my\", \"myself\", \"nor\", \"of\", \"on\", \"once\", \"only\", \"or\", \"other\", \"ought\", \"our\", \"ours\", \"ourselves\", \"out\", \"over\", \"own\", \"same\", \"she\", \"she'd\", \"she'll\", \"she's\", \"should\", \"so\", \"some\", \"such\", \"than\", \"that\", \"that's\", \"the\", \"their\", \"theirs\", \"them\", \"themselves\", \"then\", \"there\", \"there's\", \"these\", \"they\", \"they'd\", \"they'll\", \"they're\", \"they've\", \"this\", \"those\", \"through\", \"to\", \"too\", \"under\", \"until\", \"up\", \"very\", \"was\", \"we\", \"we'd\", \"we'll\", \"we're\", \"we've\", \"were\", \"what\", \"what's\", \"when\", \"when's\", \"where\", \"where's\", \"which\", \"while\", \"who\", \"who's\", \"whom\", \"why\", \"why's\", \"with\", \"would\", \"you\", \"you'd\", \"you'll\", \"you're\", \"you've\", \"your\", \"yours\", \"yourself\", \"yourselves\" ]\n",
        "print(len(stopwords_))"
      ],
      "execution_count": null,
      "outputs": [
        {
          "output_type": "stream",
          "text": [
            "153\n"
          ],
          "name": "stdout"
        }
      ]
    },
    {
      "cell_type": "code",
      "metadata": {
        "id": "pz-sd8WvSszO",
        "colab_type": "code",
        "colab": {}
      },
      "source": [
        "train_sentences=[]\n",
        "with open('train.csv', 'r') as trainfile:\n",
        "  reader = csv.reader(trainfile, delimiter=',')\n",
        "  next(reader)\n",
        "  for row in reader:\n",
        "    sentence = row[2]\n",
        "    for word in stopwords_:\n",
        "      token = \" \" + word + \" \"\n",
        "      sentence = sentence.replace(token, \" \")\n",
        "      sentence = sentence.lower()\n",
        "      sentence = sentence.replace(\"\\\\\", \" \")\n",
        "      sentence = sentence.replace(\"/\", \" \")\n",
        "      sentence = sentence.replace(\"$\", \" \")\n",
        "      sentence = sentence.replace(\"+\", \" \")\n",
        "      sentence = sentence.replace(\"_\", \" \")\n",
        "      sentence = sentence.replace(\"^\", \" \")\n",
        "      sentence = sentence.replace(\"{\", \" \")\n",
        "      sentence = sentence.replace(\"}\", \" \")\n",
        "      sentence = sentence.replace(\"(\", \" \")\n",
        "      sentence = sentence.replace(\")\", \" \")\n",
        "      sentence = sentence.replace(\":\", \" \")\n",
        "      sentence = sentence.replace(\"=\", \" \")\n",
        "      sentence = sentence.replace(\">\", \" \")\n",
        "      sentence = sentence.replace(\"<\", \" \")\n",
        "      sentence = sentence.replace(\"\\n\", \" \")\n",
        "      sentence = PorterStemmer().stem(sentence)\n",
        "    train_sentences.append(sentence)\n",
        "    "
      ],
      "execution_count": null,
      "outputs": []
    },
    {
      "cell_type": "code",
      "metadata": {
        "id": "s9tYjEE5YZxT",
        "colab_type": "code",
        "colab": {}
      },
      "source": [
        "test_sentences=[]\n",
        "with open('test.csv', 'r') as testfile:\n",
        "  reader_ = csv.reader(testfile, delimiter=',')\n",
        "  next(reader_)\n",
        "  for row in reader_:\n",
        "    sentence = row[2]\n",
        "    for word in stopwords_:\n",
        "      token = \" \" + word + \" \"\n",
        "      sentence = sentence.replace(token, \" \")\n",
        "      sentence = sentence.lower()\n",
        "      sentence = sentence.replace(\"\\\\\", \" \")\n",
        "      sentence = sentence.replace(\"/\", \" \")\n",
        "      sentence = sentence.replace(\"$\", \" \")\n",
        "      sentence = sentence.replace(\"+\", \" \")\n",
        "      sentence = sentence.replace(\"_\", \" \")\n",
        "      sentence = sentence.replace(\"^\", \" \")\n",
        "      sentence = sentence.replace(\"{\", \" \")\n",
        "      sentence = sentence.replace(\"}\", \" \")\n",
        "      sentence = sentence.replace(\"(\", \" \")\n",
        "      sentence = sentence.replace(\")\", \" \")\n",
        "      sentence = sentence.replace(\":\", \" \")\n",
        "      sentence = sentence.replace(\"=\", \" \")\n",
        "      sentence = sentence.replace(\">\", \" \")\n",
        "      sentence = sentence.replace(\"<\", \" \")\n",
        "      sentence = sentence.replace(\"\\n\", \" \")\n",
        "      sentence = PorterStemmer().stem(sentence)\n",
        "    test_sentences.append(sentence)\n",
        "    "
      ],
      "execution_count": null,
      "outputs": []
    },
    {
      "cell_type": "code",
      "metadata": {
        "id": "gZ1QDbFF7UdS",
        "colab_type": "code",
        "colab": {}
      },
      "source": [
        "labels = df[['Computer Science', 'Physics', 'Mathematics', 'Statistics', 'Quantitative Biology', 'Quantitative Finance']]"
      ],
      "execution_count": null,
      "outputs": []
    },
    {
      "cell_type": "code",
      "metadata": {
        "id": "nAPato9Z8Dmk",
        "colab_type": "code",
        "colab": {
          "base_uri": "https://localhost:8080/",
          "height": 419
        },
        "outputId": "7156da79-dc37-47bf-fe68-ffa08bd7c31a"
      },
      "source": [
        "labels"
      ],
      "execution_count": null,
      "outputs": [
        {
          "output_type": "execute_result",
          "data": {
            "text/html": [
              "<div>\n",
              "<style scoped>\n",
              "    .dataframe tbody tr th:only-of-type {\n",
              "        vertical-align: middle;\n",
              "    }\n",
              "\n",
              "    .dataframe tbody tr th {\n",
              "        vertical-align: top;\n",
              "    }\n",
              "\n",
              "    .dataframe thead th {\n",
              "        text-align: right;\n",
              "    }\n",
              "</style>\n",
              "<table border=\"1\" class=\"dataframe\">\n",
              "  <thead>\n",
              "    <tr style=\"text-align: right;\">\n",
              "      <th></th>\n",
              "      <th>Computer Science</th>\n",
              "      <th>Physics</th>\n",
              "      <th>Mathematics</th>\n",
              "      <th>Statistics</th>\n",
              "      <th>Quantitative Biology</th>\n",
              "      <th>Quantitative Finance</th>\n",
              "    </tr>\n",
              "  </thead>\n",
              "  <tbody>\n",
              "    <tr>\n",
              "      <th>0</th>\n",
              "      <td>1</td>\n",
              "      <td>0</td>\n",
              "      <td>0</td>\n",
              "      <td>0</td>\n",
              "      <td>0</td>\n",
              "      <td>0</td>\n",
              "    </tr>\n",
              "    <tr>\n",
              "      <th>1</th>\n",
              "      <td>1</td>\n",
              "      <td>0</td>\n",
              "      <td>0</td>\n",
              "      <td>0</td>\n",
              "      <td>0</td>\n",
              "      <td>0</td>\n",
              "    </tr>\n",
              "    <tr>\n",
              "      <th>2</th>\n",
              "      <td>0</td>\n",
              "      <td>0</td>\n",
              "      <td>1</td>\n",
              "      <td>0</td>\n",
              "      <td>0</td>\n",
              "      <td>0</td>\n",
              "    </tr>\n",
              "    <tr>\n",
              "      <th>3</th>\n",
              "      <td>0</td>\n",
              "      <td>0</td>\n",
              "      <td>1</td>\n",
              "      <td>0</td>\n",
              "      <td>0</td>\n",
              "      <td>0</td>\n",
              "    </tr>\n",
              "    <tr>\n",
              "      <th>4</th>\n",
              "      <td>1</td>\n",
              "      <td>0</td>\n",
              "      <td>0</td>\n",
              "      <td>1</td>\n",
              "      <td>0</td>\n",
              "      <td>0</td>\n",
              "    </tr>\n",
              "    <tr>\n",
              "      <th>...</th>\n",
              "      <td>...</td>\n",
              "      <td>...</td>\n",
              "      <td>...</td>\n",
              "      <td>...</td>\n",
              "      <td>...</td>\n",
              "      <td>...</td>\n",
              "    </tr>\n",
              "    <tr>\n",
              "      <th>20967</th>\n",
              "      <td>1</td>\n",
              "      <td>1</td>\n",
              "      <td>0</td>\n",
              "      <td>0</td>\n",
              "      <td>0</td>\n",
              "      <td>0</td>\n",
              "    </tr>\n",
              "    <tr>\n",
              "      <th>20968</th>\n",
              "      <td>0</td>\n",
              "      <td>1</td>\n",
              "      <td>0</td>\n",
              "      <td>0</td>\n",
              "      <td>0</td>\n",
              "      <td>0</td>\n",
              "    </tr>\n",
              "    <tr>\n",
              "      <th>20969</th>\n",
              "      <td>1</td>\n",
              "      <td>0</td>\n",
              "      <td>0</td>\n",
              "      <td>0</td>\n",
              "      <td>0</td>\n",
              "      <td>0</td>\n",
              "    </tr>\n",
              "    <tr>\n",
              "      <th>20970</th>\n",
              "      <td>0</td>\n",
              "      <td>0</td>\n",
              "      <td>1</td>\n",
              "      <td>1</td>\n",
              "      <td>0</td>\n",
              "      <td>0</td>\n",
              "    </tr>\n",
              "    <tr>\n",
              "      <th>20971</th>\n",
              "      <td>0</td>\n",
              "      <td>0</td>\n",
              "      <td>1</td>\n",
              "      <td>1</td>\n",
              "      <td>0</td>\n",
              "      <td>0</td>\n",
              "    </tr>\n",
              "  </tbody>\n",
              "</table>\n",
              "<p>20972 rows × 6 columns</p>\n",
              "</div>"
            ],
            "text/plain": [
              "       Computer Science  Physics  ...  Quantitative Biology  Quantitative Finance\n",
              "0                     1        0  ...                     0                     0\n",
              "1                     1        0  ...                     0                     0\n",
              "2                     0        0  ...                     0                     0\n",
              "3                     0        0  ...                     0                     0\n",
              "4                     1        0  ...                     0                     0\n",
              "...                 ...      ...  ...                   ...                   ...\n",
              "20967                 1        1  ...                     0                     0\n",
              "20968                 0        1  ...                     0                     0\n",
              "20969                 1        0  ...                     0                     0\n",
              "20970                 0        0  ...                     0                     0\n",
              "20971                 0        0  ...                     0                     0\n",
              "\n",
              "[20972 rows x 6 columns]"
            ]
          },
          "metadata": {
            "tags": []
          },
          "execution_count": 13
        }
      ]
    },
    {
      "cell_type": "code",
      "metadata": {
        "id": "vDEvZFKm8LCz",
        "colab_type": "code",
        "colab": {}
      },
      "source": [
        "label_num = labels.values"
      ],
      "execution_count": null,
      "outputs": []
    },
    {
      "cell_type": "code",
      "metadata": {
        "id": "pqaMJ4vU8w8B",
        "colab_type": "code",
        "colab": {
          "base_uri": "https://localhost:8080/",
          "height": 143
        },
        "outputId": "ab47cdca-1c6b-4f9c-b108-e3872acdff32"
      },
      "source": [
        "label_num"
      ],
      "execution_count": null,
      "outputs": [
        {
          "output_type": "execute_result",
          "data": {
            "text/plain": [
              "array([[1, 0, 0, 0, 0, 0],\n",
              "       [1, 0, 0, 0, 0, 0],\n",
              "       [0, 0, 1, 0, 0, 0],\n",
              "       ...,\n",
              "       [1, 0, 0, 0, 0, 0],\n",
              "       [0, 0, 1, 1, 0, 0],\n",
              "       [0, 0, 1, 1, 0, 0]])"
            ]
          },
          "metadata": {
            "tags": []
          },
          "execution_count": 15
        }
      ]
    },
    {
      "cell_type": "code",
      "metadata": {
        "id": "Twmy50TL88Z-",
        "colab_type": "code",
        "colab": {}
      },
      "source": [
        "#vocab_size = 20000\n",
        "embedding_dim = 100\n",
        "max_length = 500\n",
        "trunc_type='post'\n",
        "oov_tok = \"<OOV>\"\n",
        "\n",
        "\n",
        "tokenizer = Tokenizer(num_words = vocab_size, oov_token=oov_tok)\n",
        "tokenizer.fit_on_texts(train_sentences)\n",
        "word_index = tokenizer.word_index\n",
        "vocab_size=len(word_index)\n",
        "sequences = tokenizer.texts_to_sequences(train_sentences)\n",
        "padded = pad_sequences(sequences,maxlen=max_length, truncating=trunc_type)\n",
        "\n",
        "test_sequences = tokenizer.texts_to_sequences(test_sentences)\n",
        "test_padded = pad_sequences(test_sequences,maxlen=max_length)"
      ],
      "execution_count": null,
      "outputs": []
    },
    {
      "cell_type": "code",
      "metadata": {
        "id": "PNqcY4f79Uha",
        "colab_type": "code",
        "colab": {
          "base_uri": "https://localhost:8080/",
          "height": 73
        },
        "outputId": "21d03f86-4b82-4b66-c810-b52efecb9658"
      },
      "source": [
        "reverse_word_index = dict([(value, key) for (key, value) in word_index.items()])\n",
        "\n",
        "def decode_review(text):\n",
        "    return ' '.join([reverse_word_index.get(i, '?') for i in text])\n",
        "\n",
        "print(decode_review(padded[3]))\n",
        "print(train_sentences[3])"
      ],
      "execution_count": null,
      "outputs": [
        {
          "output_type": "stream",
          "text": [
            "? ? ? ? ? ? ? ? ? ? ? ? ? ? ? ? ? ? ? ? ? ? ? ? ? ? ? ? ? ? ? ? ? ? ? ? ? ? ? ? ? ? ? ? ? ? ? ? ? ? ? ? ? ? ? ? ? ? ? ? ? ? ? ? ? ? ? ? ? ? ? ? ? ? ? ? ? ? ? ? ? ? ? ? ? ? ? ? ? ? ? ? ? ? ? ? ? ? ? ? ? ? ? ? ? ? ? ? ? ? ? ? ? ? ? ? ? ? ? ? ? ? ? ? ? ? ? ? ? ? ? ? ? ? ? ? ? ? ? ? ? ? ? ? ? ? ? ? ? ? ? ? ? ? ? ? ? ? ? ? ? ? ? ? ? ? ? ? ? ? ? ? ? ? ? ? ? ? ? ? ? ? ? ? ? ? ? ? ? ? ? ? ? ? ? ? ? ? ? ? ? ? ? ? ? ? ? ? ? ? ? ? ? ? ? ? ? ? ? ? ? ? ? ? ? ? ? ? ? ? ? ? ? ? ? ? ? ? ? ? ? ? ? ? ? ? ? ? ? ? ? ? ? ? ? ? ? ? ? ? ? ? ? ? ? ? ? ? ? ? ? ? ? ? ? ? ? ? ? ? ? ? ? ? ? ? ? ? ? ? ? ? ? ? ? ? ? ? ? ? ? ? ? ? ? ? ? ? ? ? ? ? ? ? ? ? ? ? ? ? ? ? ? ? ? ? ? ? ? ? ? ? ? ? ? ? ? ? ? ? ? ? ? ? ? ? ? ? ? ? ? ? ? ? ? ? ? ? ? ? ? ? ? ? ? ? ? ? ? ? ? ? ? ? ? ? ? ? ? ? ? ? ? ? ? ? ? ? ? ? ? ? ? ? ? ? ? ? ? ? ? ? ? ? ? ? ? ? ? ? ? ? ? ? ? ? ? ? ? ? ? ? ? ? ? ? ? ? ? stochastic landau lifshitz gilbert <OOV> equation coupled maxwell equations called stochastic <OOV> system describes creation domain walls vortices fundamental objects novel nanostructured magnetic memories first reformulate stochastic <OOV> equation equation time differentiable solutions propose convergent theta linear scheme approximate solutions reformulated system consequence prove convergence approximate solutions no minor conditions time space steps depending value theta hence prove existence weak martingale solutions stochastic <OOV> system numerical results presented show applicability method\n",
            "  stochastic landau--lifshitz--gilbert  llg  equation coupled maxwell equations  called stochastic mllg system  describes creation domain walls vortices  fundamental objects novel nanostructured magnetic memories . first reformulate stochastic llg equation equation time-differentiable solutions. propose convergent   theta -linear scheme approximate solutions reformulated system. consequence, prove convergence approximate solutions, no minor conditions time space steps  depending value   theta  . hence, prove existence weak martingale solutions stochastic mllg system. numerical results presented show applicability method. \n"
          ],
          "name": "stdout"
        }
      ]
    },
    {
      "cell_type": "code",
      "metadata": {
        "id": "1gQwlqoD9jkG",
        "colab_type": "code",
        "colab": {}
      },
      "source": [
        "#model = tf.keras.Sequential([\n",
        " #   tf.keras.layers.Embedding(vocab_size, embedding_dim, input_length=max_length),\n",
        "  #  tf.keras.layers.Flatten(),\n",
        "   # tf.keras.layers.Dense(6, activation='relu'),\n",
        "    #tf.keras.layers.Dense(6, activation='sigmoid')\n",
        "#])\n",
        "#model.compile(loss='binary_crossentropy',optimizer='adam',metrics=['accuracy'])\n",
        "#model.summary()"
      ],
      "execution_count": null,
      "outputs": []
    },
    {
      "cell_type": "code",
      "metadata": {
        "id": "FeRMEjVC93R7",
        "colab_type": "code",
        "colab": {}
      },
      "source": [
        "#num_epochs = 30\n",
        "#history=model.fit(padded, label_num, epochs=num_epochs)"
      ],
      "execution_count": null,
      "outputs": []
    },
    {
      "cell_type": "code",
      "metadata": {
        "id": "Mcb4Y3DOqTwX",
        "colab_type": "code",
        "colab": {
          "base_uri": "https://localhost:8080/",
          "height": 215
        },
        "outputId": "38dad33f-4e58-46af-b019-f7f3dac2f234"
      },
      "source": [
        "# Note this is the 100 dimension version of GloVe from Stanford\n",
        "# I unzipped and hosted it on my site to make this notebook easier\n",
        "!wget --no-check-certificate \\\n",
        "    https://storage.googleapis.com/laurencemoroney-blog.appspot.com/glove.6B.100d.txt \\\n",
        "    -O /tmp/glove.6B.100d.txt\n",
        "embeddings_index = {};\n",
        "with open('/tmp/glove.6B.100d.txt') as f:\n",
        "    for line in f:\n",
        "        values = line.split();\n",
        "        word = values[0];\n",
        "        coefs = np.asarray(values[1:], dtype='float32');\n",
        "        embeddings_index[word] = coefs;\n",
        "\n",
        "embeddings_matrix = np.zeros((vocab_size+1, embedding_dim));\n",
        "for word, i in word_index.items():\n",
        "    embedding_vector = embeddings_index.get(word);\n",
        "    if embedding_vector is not None:\n",
        "        embeddings_matrix[i] = embedding_vector;"
      ],
      "execution_count": null,
      "outputs": [
        {
          "output_type": "stream",
          "text": [
            "--2020-08-20 16:24:13--  https://storage.googleapis.com/laurencemoroney-blog.appspot.com/glove.6B.100d.txt\n",
            "Resolving storage.googleapis.com (storage.googleapis.com)... 173.194.217.128, 172.217.204.128, 172.217.203.128, ...\n",
            "Connecting to storage.googleapis.com (storage.googleapis.com)|173.194.217.128|:443... connected.\n",
            "HTTP request sent, awaiting response... 200 OK\n",
            "Length: 347116733 (331M) [text/plain]\n",
            "Saving to: ‘/tmp/glove.6B.100d.txt’\n",
            "\n",
            "/tmp/glove.6B.100d. 100%[===================>] 331.04M   156MB/s    in 2.1s    \n",
            "\n",
            "2020-08-20 16:24:16 (156 MB/s) - ‘/tmp/glove.6B.100d.txt’ saved [347116733/347116733]\n",
            "\n"
          ],
          "name": "stdout"
        }
      ]
    },
    {
      "cell_type": "code",
      "metadata": {
        "id": "gTbNGMh4qhzo",
        "colab_type": "code",
        "colab": {}
      },
      "source": [
        "model1 = tf.keras.Sequential([\n",
        "    tf.keras.layers.Embedding(vocab_size+1, embedding_dim, input_length=max_length, weights=[embeddings_matrix], trainable=False),\n",
        "    tf.keras.layers.Dropout(0.2),\n",
        "    tf.keras.layers.Conv1D(64, 5, activation='relu'),\n",
        "    tf.keras.layers.MaxPooling1D(pool_size=4),\n",
        "    tf.keras.layers.LSTM(64),\n",
        "    tf.keras.layers.Dense(6, activation='sigmoid')\n",
        "])\n",
        "model1.compile(loss='binary_crossentropy',optimizer='adam',metrics=['accuracy'])"
      ],
      "execution_count": null,
      "outputs": []
    },
    {
      "cell_type": "code",
      "metadata": {
        "id": "Pa_b4ilXrjI_",
        "colab_type": "code",
        "colab": {
          "base_uri": "https://localhost:8080/",
          "height": 377
        },
        "outputId": "7ce8e440-222f-46bd-cc78-d4b5dc6d027e"
      },
      "source": [
        "num_epochs = 10\n",
        "history=model1.fit(padded, label_num, epochs=num_epochs)"
      ],
      "execution_count": null,
      "outputs": [
        {
          "output_type": "stream",
          "text": [
            "Epoch 1/10\n",
            "656/656 [==============================] - 95s 145ms/step - loss: 0.1426 - accuracy: 0.7919\n",
            "Epoch 2/10\n",
            "656/656 [==============================] - 95s 145ms/step - loss: 0.1361 - accuracy: 0.7995\n",
            "Epoch 3/10\n",
            "656/656 [==============================] - 95s 145ms/step - loss: 0.1340 - accuracy: 0.7991\n",
            "Epoch 4/10\n",
            "656/656 [==============================] - 95s 145ms/step - loss: 0.1325 - accuracy: 0.8020\n",
            "Epoch 5/10\n",
            "656/656 [==============================] - 98s 149ms/step - loss: 0.1289 - accuracy: 0.8027\n",
            "Epoch 6/10\n",
            "656/656 [==============================] - 95s 145ms/step - loss: 0.1261 - accuracy: 0.8060\n",
            "Epoch 7/10\n",
            "656/656 [==============================] - 96s 146ms/step - loss: 0.1224 - accuracy: 0.8074\n",
            "Epoch 8/10\n",
            "656/656 [==============================] - 95s 145ms/step - loss: 0.1205 - accuracy: 0.8111\n",
            "Epoch 9/10\n",
            "656/656 [==============================] - 95s 145ms/step - loss: 0.1174 - accuracy: 0.8145\n",
            "Epoch 10/10\n",
            "656/656 [==============================] - 96s 146ms/step - loss: 0.1145 - accuracy: 0.8163\n"
          ],
          "name": "stdout"
        }
      ]
    },
    {
      "cell_type": "code",
      "metadata": {
        "id": "Ha5WlrJPDzsh",
        "colab_type": "code",
        "colab": {
          "base_uri": "https://localhost:8080/",
          "height": 541
        },
        "outputId": "796f43eb-788e-45b7-bbf3-d05153b14c05"
      },
      "source": [
        "import matplotlib.pyplot as plt\n",
        "\n",
        "\n",
        "def plot_graphs(history, string):\n",
        "  plt.plot(history.history[string])\n",
        "  #plt.plot(history.history['val_'+string])\n",
        "  plt.xlabel(\"Epochs\")\n",
        "  plt.ylabel(string)\n",
        "  #plt.legend([string, 'val_'+string])\n",
        "  plt.show()\n",
        "  \n",
        "plot_graphs(history, \"accuracy\")\n",
        "plot_graphs(history, \"loss\")"
      ],
      "execution_count": null,
      "outputs": [
        {
          "output_type": "display_data",
          "data": {
            "image/png": "[encoded data removed]",
            "text/plain": [
              "<Figure size 432x288 with 1 Axes>"
            ]
          },
          "metadata": {
            "tags": [],
            "needs_background": "light"
          }
        },
        {
          "output_type": "display_data",
          "data": {
            "image/png": "[encoded data removed]",
            "text/plain": [
              "<Figure size 432x288 with 1 Axes>"
            ]
          },
          "metadata": {
            "tags": [],
            "needs_background": "light"
          }
        }
      ]
    },
    {
      "cell_type": "code",
      "metadata": {
        "id": "2fkW13_o-8Fy",
        "colab_type": "code",
        "colab": {
          "base_uri": "https://localhost:8080/",
          "height": 251
        },
        "outputId": "55a8c827-db61-4df1-b582-20e1d09beb4f"
      },
      "source": [
        "a"
      ],
      "execution_count": null,
      "outputs": [
        {
          "output_type": "execute_result",
          "data": {
            "text/plain": [
              "array([[2.9095829e-05, 3.5731962e-15, 3.0170977e-03, 1.0000000e+00,\n",
              "        3.6112212e-06, 9.6922236e-12],\n",
              "       [2.8240488e-06, 9.9995649e-01, 7.7573180e-01, 2.1740401e-10,\n",
              "        2.0219033e-10, 4.6699643e-03],\n",
              "       [9.9988365e-01, 5.1445296e-11, 4.9933062e-09, 7.6237798e-02,\n",
              "        5.4090394e-09, 2.3493300e-22],\n",
              "       ...,\n",
              "       [2.0832032e-02, 2.9362738e-03, 1.8862156e-20, 1.6408890e-02,\n",
              "        9.9604905e-01, 5.3877480e-12],\n",
              "       [9.9999309e-01, 1.9569025e-17, 3.4325268e-07, 9.9996257e-01,\n",
              "        1.4069527e-09, 9.0599831e-26],\n",
              "       [9.9818510e-01, 1.5747044e-05, 4.2422473e-02, 3.5443321e-05,\n",
              "        1.0451592e-10, 7.5314554e-16]], dtype=float32)"
            ]
          },
          "metadata": {
            "tags": []
          },
          "execution_count": 82
        }
      ]
    },
    {
      "cell_type": "code",
      "metadata": {
        "id": "kd1tp3WX-cHL",
        "colab_type": "code",
        "colab": {}
      },
      "source": [
        "a = model.predict(test_padded)"
      ],
      "execution_count": null,
      "outputs": []
    },
    {
      "cell_type": "code",
      "metadata": {
        "id": "qEE1M3xD-33Y",
        "colab_type": "code",
        "colab": {}
      },
      "source": [
        "a[a>=0.1]=1\n",
        "a[a<0.01]=0"
      ],
      "execution_count": null,
      "outputs": []
    },
    {
      "cell_type": "code",
      "metadata": {
        "id": "dHPFXVZo2Dr7",
        "colab_type": "code",
        "colab": {}
      },
      "source": [
        "b = pd.DataFrame(a)\n",
        "b.columns = ['Computer Science', 'Physics', 'Mathematics', 'Statistics', 'Quantitative Biology', 'Quantitative Finance']\n",
        "b=b.astype(int)\n",
        "y = dft['ID']\n",
        "df1 = pd.concat([y, b], axis=1)"
      ],
      "execution_count": null,
      "outputs": []
    },
    {
      "cell_type": "code",
      "metadata": {
        "id": "L5zonqXYCLTO",
        "colab_type": "code",
        "colab": {}
      },
      "source": [
        "fr = open(\"AV_nlp23.csv\", \"w\")\n",
        "df1.to_csv(r'AV_nlp23.csv', index = False)\n",
        "fr.close()"
      ],
      "execution_count": null,
      "outputs": []
    },
    {
      "cell_type": "code",
      "metadata": {
        "id": "sSxIPHKPCuJu",
        "colab_type": "code",
        "colab": {}
      },
      "source": [
        ""
      ],
      "execution_count": null,
      "outputs": []
    }
  ]
}